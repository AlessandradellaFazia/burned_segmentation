{
 "cells": [
  {
   "cell_type": "code",
   "execution_count": 1,
   "metadata": {},
   "outputs": [
    {
     "name": "stderr",
     "output_type": "stream",
     "text": [
      "c:\\Users\\EDELLAA6Y\\multitask\\.venv\\Lib\\site-packages\\bitsandbytes\\cextension.py:34: UserWarning: The installed version of bitsandbytes was compiled without GPU support. 8-bit optimizers, 8-bit multiplication, and GPU quantization are unavailable.\n",
      "  warn(\"The installed version of bitsandbytes was compiled without GPU support. \"\n"
     ]
    },
    {
     "name": "stdout",
     "output_type": "stream",
     "text": [
      "'NoneType' object has no attribute 'cadam32bit_grad_fp32'\n"
     ]
    },
    {
     "name": "stderr",
     "output_type": "stream",
     "text": [
      "c:\\Users\\EDELLAA6Y\\multitask\\.venv\\Lib\\site-packages\\tqdm\\auto.py:21: TqdmWarning: IProgress not found. Please update jupyter and ipywidgets. See https://ipywidgets.readthedocs.io/en/stable/user_install.html\n",
      "  from .autonotebook import tqdm as notebook_tqdm\n"
     ]
    }
   ],
   "source": [
    "from datetime import datetime\n",
    "from functools import partial\n",
    "from pathlib import Path\n",
    "\n",
    "import argparse\n",
    "from loguru import logger as log\n",
    "from mmengine import Config\n",
    "from pytorch_lightning import Trainer, seed_everything\n",
    "from pytorch_lightning.callbacks import ModelCheckpoint\n",
    "from pytorch_lightning.loggers import TensorBoardLogger\n",
    "\n",
    "from logic.datamodules import EMSDataModule\n",
    "from logic.io import read_raster_profile, write_raster\n",
    "\n",
    "from logic.modules.single import SingleTaskModule\n",
    "from logic.tiling.tilers import SmoothTiler, SimpleTiler\n",
    "from logic.utils import exp_name_timestamp, find_best_checkpoint\n",
    "\n",
    "import pathlib"
   ]
  },
  {
   "cell_type": "code",
   "execution_count": 9,
   "metadata": {},
   "outputs": [],
   "source": [
    "import os \n",
    "os.chdir(\"C:\\\\Users\\\\EDELLAA6Y\\\\multitask\\\\refactoring2\\\\burned\")"
   ]
  },
  {
   "cell_type": "code",
   "execution_count": 10,
   "metadata": {},
   "outputs": [
    {
     "data": {
      "text/plain": [
       "_StoreTrueAction(option_strings=['-p', '--predict'], dest='predict', nargs=0, const=True, default=False, type=None, choices=None, required=False, help=None, metavar=None)"
      ]
     },
     "execution_count": 10,
     "metadata": {},
     "output_type": "execute_result"
    }
   ],
   "source": [
    "cli = argparse.ArgumentParser()\n",
    "cli.add_argument(\"mode\", choices=[\"train\", \"test\"])\n",
    "cli.add_argument(\"-c\", \"--config_path\", type=Path)\n",
    "cli.add_argument(\"-e\", \"--experiment_path\", type=Path)\n",
    "cli.add_argument(\"-cp\", \"--checkpoint_path\", type=Path)\n",
    "cli.add_argument(\"-p\", \"--predict\", action=\"store_true\")"
   ]
  },
  {
   "cell_type": "code",
   "execution_count": 19,
   "metadata": {},
   "outputs": [],
   "source": [
    "train_str = \"train -c configs\\multi\\pretrained\\dice\\ems_segformer-mit-b3_multi_50ep.py\"\n",
    "args = cli.parse_args(train_str.split())\n",
    "cfg_path = args.config_path"
   ]
  },
  {
   "cell_type": "code",
   "execution_count": 20,
   "metadata": {},
   "outputs": [
    {
     "name": "stderr",
     "output_type": "stream",
     "text": [
      "\u001b[32m2024-04-28 17:22:59.573\u001b[0m | \u001b[1mINFO    \u001b[0m | \u001b[36m__main__\u001b[0m:\u001b[36m<module>\u001b[0m:\u001b[36m1\u001b[0m - \u001b[1mLoading config from: configs\\multi\\pretrained\\dice\\ems_segformer-mit-b3_multi_50ep.py\u001b[0m\n"
     ]
    }
   ],
   "source": [
    "log.info(f\"Loading config from: {cfg_path}\")\n",
    "config = Config.fromfile(cfg_path)"
   ]
  },
  {
   "cell_type": "code",
   "execution_count": 21,
   "metadata": {},
   "outputs": [
    {
     "name": "stderr",
     "output_type": "stream",
     "text": [
      "\u001b[32m2024-04-28 17:23:12.712\u001b[0m | \u001b[1mINFO    \u001b[0m | \u001b[36m__main__\u001b[0m:\u001b[36m<module>\u001b[0m:\u001b[36m3\u001b[0m - \u001b[1mExperiment name: segformer-mit-b3_multi_imnet_auxv2_50ep_20240428_172312\u001b[0m\n"
     ]
    }
   ],
   "source": [
    "exp_name = exp_name_timestamp(config[\"name\"])\n",
    "config[\"name\"] = exp_name\n",
    "log.info(f\"Experiment name: {exp_name}\")"
   ]
  },
  {
   "cell_type": "code",
   "execution_count": 22,
   "metadata": {},
   "outputs": [
    {
     "name": "stderr",
     "output_type": "stream",
     "text": [
      "\u001b[32m2024-04-28 17:23:14.624\u001b[0m | \u001b[1mINFO    \u001b[0m | \u001b[36m__main__\u001b[0m:\u001b[36m<module>\u001b[0m:\u001b[36m2\u001b[0m - \u001b[1mPreparing the data module...\u001b[0m\n"
     ]
    }
   ],
   "source": [
    "# datamodule\n",
    "log.info(\"Preparing the data module...\")\n",
    "datamodule = EMSDataModule(**config[\"data\"])"
   ]
  },
  {
   "cell_type": "code",
   "execution_count": 23,
   "metadata": {},
   "outputs": [
    {
     "data": {
      "text/plain": [
       "<logic.datamodules.EMSDataModule at 0x202e9567f90>"
      ]
     },
     "execution_count": 23,
     "metadata": {},
     "output_type": "execute_result"
    }
   ],
   "source": [
    "datamodule"
   ]
  },
  {
   "cell_type": "code",
   "execution_count": 16,
   "metadata": {},
   "outputs": [
    {
     "name": "stderr",
     "output_type": "stream",
     "text": [
      "\u001b[32m2024-04-27 16:36:26.472\u001b[0m | \u001b[1mINFO    \u001b[0m | \u001b[36m__main__\u001b[0m:\u001b[36m<module>\u001b[0m:\u001b[36m2\u001b[0m - \u001b[1mPreparing the model...\u001b[0m\n"
     ]
    },
    {
     "data": {
      "text/plain": [
       "{'type': 'CustomEncoderDecoder',\n",
       " 'data_preprocessor': None,\n",
       " 'backbone': {'type': 'ResNet',\n",
       "  'pretrained': 'pretrained/mmseg_rn50_ss4eo.pth',\n",
       "  'depth': 50,\n",
       "  'in_channels': 12,\n",
       "  'num_stages': 4,\n",
       "  'out_indices': (0, 1, 2, 3),\n",
       "  'dilations': (1, 1, 1, 1),\n",
       "  'strides': (1, 2, 2, 2),\n",
       "  'norm_cfg': {'type': 'BN', 'requires_grad': True},\n",
       "  'norm_eval': False,\n",
       "  'style': 'pytorch',\n",
       "  'contract_dilation': True},\n",
       " 'decode_head': {'type': 'CustomUPerHead',\n",
       "  'in_channels': [256, 512, 1024, 2048],\n",
       "  'in_index': [0, 1, 2, 3],\n",
       "  'pool_scales': (1, 2, 3, 6),\n",
       "  'channels': 512,\n",
       "  'dropout_ratio': 0.1,\n",
       "  'num_classes': 1,\n",
       "  'norm_cfg': {'type': 'BN', 'requires_grad': True},\n",
       "  'align_corners': False},\n",
       " 'train_cfg': {},\n",
       " 'test_cfg': {'mode': 'whole'}}"
      ]
     },
     "execution_count": 16,
     "metadata": {},
     "output_type": "execute_result"
    }
   ],
   "source": [
    "# prepare the model\n",
    "log.info(\"Preparing the model...\")\n",
    "model_config = config[\"model\"]\n",
    "loss = config[\"loss\"] if \"loss\" in config else \"bce\"\n",
    "model_config"
   ]
  },
  {
   "cell_type": "code",
   "execution_count": null,
   "metadata": {},
   "outputs": [],
   "source": []
  }
 ],
 "metadata": {
  "kernelspec": {
   "display_name": ".venv",
   "language": "python",
   "name": "python3"
  },
  "language_info": {
   "codemirror_mode": {
    "name": "ipython",
    "version": 3
   },
   "file_extension": ".py",
   "mimetype": "text/x-python",
   "name": "python",
   "nbconvert_exporter": "python",
   "pygments_lexer": "ipython3",
   "version": "3.11.5"
  }
 },
 "nbformat": 4,
 "nbformat_minor": 2
}
